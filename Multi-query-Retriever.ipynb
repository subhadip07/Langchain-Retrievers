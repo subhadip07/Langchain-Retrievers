{
 "cells": [
  {
   "cell_type": "markdown",
   "id": "79317007",
   "metadata": {},
   "source": [
    "### Multi-query Retriever"
   ]
  },
  {
   "cell_type": "markdown",
   "id": "2fa160c1",
   "metadata": {},
   "source": [
    "Sometimes a single query might not capture all the ways information is phrased in your documents.\n",
    "\n",
    "##### For example:\n",
    "Query: \"How can I stay healthy?\"\n",
    "\n",
    "Could mean: \n",
    "* What should i eat?\n",
    "* How often should i exercise?\n",
    "* How can I manage stress?\n",
    "\n",
    "A simple similarity search might miss documents that talk about those things but don't use the word \"healthy.\""
   ]
  },
  {
   "cell_type": "markdown",
   "id": "f7e7b346",
   "metadata": {},
   "source": [
    "1. Takes your original query\n",
    "2. Uses an LLM to generate multiple semantically different versions of that query\n",
    "3. Performs retrieval for each sub-query\n",
    "4. Combines and deduplicates the results"
   ]
  },
  {
   "cell_type": "code",
   "execution_count": 2,
   "id": "caedd837",
   "metadata": {},
   "outputs": [
    {
     "data": {
      "text/plain": [
       "True"
      ]
     },
     "execution_count": 2,
     "metadata": {},
     "output_type": "execute_result"
    }
   ],
   "source": [
    "from langchain_community.vectorstores import FAISS\n",
    "from langchain_google_genai import GoogleGenerativeAIEmbeddings\n",
    "from langchain_core.documents import Document\n",
    "from langchain_groq import ChatGroq\n",
    "from langchain.retrievers.multi_query import MultiQueryRetriever\n",
    "from dotenv import load_dotenv\n",
    "load_dotenv()"
   ]
  },
  {
   "cell_type": "markdown",
   "id": "8629d248",
   "metadata": {},
   "source": [
    "##### Relevant health & wellness documents"
   ]
  },
  {
   "cell_type": "code",
   "execution_count": 3,
   "id": "2e1522f2",
   "metadata": {},
   "outputs": [],
   "source": [
    "all_docs = [\n",
    "    Document(page_content=\"Regular walking boosts heart health and can reduce symptoms of depression.\", metadata={\"source\": \"H1\"}),\n",
    "    Document(page_content=\"Consuming leafy greens and fruits helps detox the body and improve longevity.\", metadata={\"source\": \"H2\"}),\n",
    "    Document(page_content=\"Deep sleep is crucial for cellular repair and emotional regulation.\", metadata={\"source\": \"H3\"}),\n",
    "    Document(page_content=\"Mindfulness and controlled breathing lower cortisol and improve mental clarity.\", metadata={\"source\": \"H4\"}),\n",
    "    Document(page_content=\"Drinking sufficient water throughout the day helps maintain metabolism and energy.\", metadata={\"source\": \"H5\"}),\n",
    "    Document(page_content=\"The solar energy system in modern homes helps balance electricity demand.\", metadata={\"source\": \"I1\"}),\n",
    "    Document(page_content=\"Python balances readability with power, making it a popular system design language.\", metadata={\"source\": \"I2\"}),\n",
    "    Document(page_content=\"Photosynthesis enables plants to produce energy by converting sunlight.\", metadata={\"source\": \"I3\"}),\n",
    "    Document(page_content=\"The 2022 FIFA World Cup was held in Qatar and drew global energy and excitement.\", metadata={\"source\": \"I4\"}),\n",
    "    Document(page_content=\"Black holes bend spacetime and store immense gravitational energy.\", metadata={\"source\": \"I5\"}),\n",
    "]"
   ]
  },
  {
   "cell_type": "markdown",
   "id": "5ac45aca",
   "metadata": {},
   "source": [
    "##### Initialize Google GenAI embeddings"
   ]
  },
  {
   "cell_type": "code",
   "execution_count": 4,
   "id": "4708ad18",
   "metadata": {},
   "outputs": [],
   "source": [
    "embedding_model = GoogleGenerativeAIEmbeddings(model=\"models/embedding-001\")"
   ]
  },
  {
   "cell_type": "markdown",
   "id": "2a3be355",
   "metadata": {},
   "source": [
    "##### Create FAISS vector store"
   ]
  },
  {
   "cell_type": "code",
   "execution_count": 5,
   "id": "e5c66af0",
   "metadata": {},
   "outputs": [],
   "source": [
    "vectorstore = FAISS.from_documents(documents=all_docs, embedding=embedding_model)"
   ]
  },
  {
   "cell_type": "markdown",
   "id": "a16a7ce4",
   "metadata": {},
   "source": [
    "##### Create retrievers"
   ]
  },
  {
   "cell_type": "code",
   "execution_count": 9,
   "id": "262e1c27",
   "metadata": {},
   "outputs": [],
   "source": [
    "similarity_retriever = vectorstore.as_retriever(search_type=\"similarity\", search_kwargs={\"k\": 5})"
   ]
  },
  {
   "cell_type": "markdown",
   "id": "46873b7c",
   "metadata": {},
   "source": [
    ".as_retriever():\n",
    "* This method transforms the VectorStore object into a VectorStoreRetriever. A retriever is a LangChain component responsible for fetching relevant documents based on a given query.\n",
    "\n",
    "search_type=\"similarity\":\n",
    "* This argument specifies the type of search to be performed by the retriever. \"similarity\" indicates that the retriever will find documents most similar to the query based on their vector embeddings (e.g., using cosine similarity). Other common search_type options include \"mmr\" (Maximal Marginal Relevance) for diversity-aware retrieval and \"similarity_score_threshold\" to filter results based on a relevance score.\n",
    "\n",
    "search_kwargs={\"k\": 5}:\n",
    "* This argument provides keyword arguments to pass to the underlying search function of the VectorStore. In this specific case, {\"k\": 5} limits the number of retrieved documents to the top 5 most similar results. The k parameter is a common way to control the number of documents returned by a retriever."
   ]
  },
  {
   "cell_type": "code",
   "execution_count": 10,
   "id": "3967fb80",
   "metadata": {},
   "outputs": [],
   "source": [
    "multiquery_retriever = MultiQueryRetriever.from_llm(\n",
    "    retriever=vectorstore.as_retriever(search_kwargs={\"k\": 5}),\n",
    "    llm=ChatGroq(model=\"qwen/qwen3-32b\")\n",
    ")"
   ]
  },
  {
   "cell_type": "code",
   "execution_count": 14,
   "id": "dee75a5d",
   "metadata": {},
   "outputs": [],
   "source": [
    "# Query\n",
    "query = \"How to improve energy levels and maintain balance in body?\""
   ]
  },
  {
   "cell_type": "markdown",
   "id": "a5ca1d82",
   "metadata": {},
   "source": [
    "##### Retrieve results"
   ]
  },
  {
   "cell_type": "code",
   "execution_count": 15,
   "id": "64d3931d",
   "metadata": {},
   "outputs": [],
   "source": [
    "similarity_results = similarity_retriever.invoke(query)\n",
    "multiquery_results= multiquery_retriever.invoke(query)"
   ]
  },
  {
   "cell_type": "code",
   "execution_count": 16,
   "id": "5a35ec67",
   "metadata": {},
   "outputs": [
    {
     "name": "stdout",
     "output_type": "stream",
     "text": [
      "\n",
      "--- Result 1 ---\n",
      "Drinking sufficient water throughout the day helps maintain metabolism and energy.\n",
      "\n",
      "--- Result 2 ---\n",
      "Consuming leafy greens and fruits helps detox the body and improve longevity.\n",
      "\n",
      "--- Result 3 ---\n",
      "Mindfulness and controlled breathing lower cortisol and improve mental clarity.\n",
      "\n",
      "--- Result 4 ---\n",
      "Deep sleep is crucial for cellular repair and emotional regulation.\n",
      "\n",
      "--- Result 5 ---\n",
      "Photosynthesis enables plants to produce energy by converting sunlight.\n",
      "******************************************************************************************************************************************************\n",
      "\n",
      "--- Result 1 ---\n",
      "Black holes bend spacetime and store immense gravitational energy.\n",
      "\n",
      "--- Result 2 ---\n",
      "Drinking sufficient water throughout the day helps maintain metabolism and energy.\n",
      "\n",
      "--- Result 3 ---\n",
      "Python balances readability with power, making it a popular system design language.\n",
      "\n",
      "--- Result 4 ---\n",
      "Mindfulness and controlled breathing lower cortisol and improve mental clarity.\n",
      "\n",
      "--- Result 5 ---\n",
      "Photosynthesis enables plants to produce energy by converting sunlight.\n",
      "\n",
      "--- Result 6 ---\n",
      "Consuming leafy greens and fruits helps detox the body and improve longevity.\n",
      "\n",
      "--- Result 7 ---\n",
      "Deep sleep is crucial for cellular repair and emotional regulation.\n",
      "\n",
      "--- Result 8 ---\n",
      "Regular walking boosts heart health and can reduce symptoms of depression.\n",
      "\n",
      "--- Result 9 ---\n",
      "The 2022 FIFA World Cup was held in Qatar and drew global energy and excitement.\n"
     ]
    }
   ],
   "source": [
    "for i, doc in enumerate(similarity_results):\n",
    "    print(f\"\\n--- Result {i+1} ---\")\n",
    "    print(doc.page_content)\n",
    "\n",
    "print(\"*\"*150)\n",
    "\n",
    "for i, doc in enumerate(multiquery_results):\n",
    "    print(f\"\\n--- Result {i+1} ---\")\n",
    "    print(doc.page_content)"
   ]
  },
  {
   "cell_type": "code",
   "execution_count": null,
   "id": "2fcb93ef",
   "metadata": {},
   "outputs": [],
   "source": []
  }
 ],
 "metadata": {
  "kernelspec": {
   "display_name": "langchain-retrievers",
   "language": "python",
   "name": "python3"
  },
  "language_info": {
   "codemirror_mode": {
    "name": "ipython",
    "version": 3
   },
   "file_extension": ".py",
   "mimetype": "text/x-python",
   "name": "python",
   "nbconvert_exporter": "python",
   "pygments_lexer": "ipython3",
   "version": "3.13.1"
  }
 },
 "nbformat": 4,
 "nbformat_minor": 5
}
