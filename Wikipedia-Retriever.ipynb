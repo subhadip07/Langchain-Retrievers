{
 "cells": [
  {
   "cell_type": "markdown",
   "id": "efa75d72",
   "metadata": {},
   "source": [
    "### Retriever\n",
    "* A retriever is a component in LangChain that fetches relevant documents from a data source in response to a user’s query.\n",
    "* There are multiple types of retrievers\n",
    "* All retrievers in LangChain are runnables"
   ]
  },
  {
   "cell_type": "markdown",
   "id": "20276be4",
   "metadata": {},
   "source": [
    "### Wikipedia Retriever\n",
    "* Retrieve wiki pages from wikipedia.org into the Document format that is used downstream.\n",
    "\n",
    "WikipediaRetriever parameters include:\n",
    "\n",
    "* (optional) lang: default=\"en\". Use it to search in a specific language part of Wikipedia\n",
    "* (optional) load_max_docs: default=100. Use it to limit number of downloaded documents. It takes time to download all 100 documents, so use a small number for experiments. There is a hard limit of 300 for now.\n",
    "* (optional) load_all_available_meta: default=False. By default only the most important fields downloaded: Published (date when document was published/last updated), title, Summary. If True, other fields also downloaded.\n",
    "\n",
    "get_relevant_documents() has one argument, query: free text which used to find documents in Wikipedia"
   ]
  },
  {
   "cell_type": "code",
   "execution_count": 2,
   "id": "299c61d7",
   "metadata": {},
   "outputs": [],
   "source": [
    "from langchain_community.retrievers import WikipediaRetriever"
   ]
  },
  {
   "cell_type": "markdown",
   "id": "62b15f8f",
   "metadata": {},
   "source": [
    "##### Initialize the retriever (optional: set language and top_k)"
   ]
  },
  {
   "cell_type": "code",
   "execution_count": 7,
   "id": "64376cc9",
   "metadata": {},
   "outputs": [],
   "source": [
    "retriever = WikipediaRetriever(top_k_results=2, lang=\"en\", load_max_docs=2)"
   ]
  },
  {
   "cell_type": "markdown",
   "id": "d7a86ef0",
   "metadata": {},
   "source": [
    "##### Define your query"
   ]
  },
  {
   "cell_type": "code",
   "execution_count": 15,
   "id": "f4a11d9f",
   "metadata": {},
   "outputs": [],
   "source": [
    "query = \"the geopolitical history of India\""
   ]
  },
  {
   "cell_type": "markdown",
   "id": "5714d4f1",
   "metadata": {},
   "source": [
    "##### Get relevant Wikipedia documents"
   ]
  },
  {
   "cell_type": "code",
   "execution_count": 16,
   "id": "89969a65",
   "metadata": {},
   "outputs": [],
   "source": [
    "docs = retriever.invoke(query)"
   ]
  },
  {
   "cell_type": "code",
   "execution_count": 17,
   "id": "b80f5ed5",
   "metadata": {},
   "outputs": [
    {
     "name": "stdout",
     "output_type": "stream",
     "text": [
      "Anatomically modern humans first arrived on the Indian subcontinent between 73,000 and 55,000 years ago. The earliest known human remains in South Asia date to 30,000 years ago. Sedentariness began in South Asia around 7000 BCE; by 4500 BCE, settled life had spread, and gradually evolved into the Indus Valley Civilisation, one of three early cradles of civilisation in the Old World, which flourished between 2500 BCE and 1900 BCE in present-day Pakistan and north-western India. Early in the second millennium BCE, persistent drought caused the population of the Indus Valley to scatter from large urban centres to villages. Indo-Aryan tribes moved into the Punjab from Central Asia in several waves of migration. The Vedic Period of the Vedic people in northern India (1500–500 BCE) was marked by the composition of their extensive collections of hymns (Vedas). The social structure was loosely stratified via the varna system, incorporated into the highly evolved present-day Jāti system. The pastoral and nomadic Indo-Aryans spread from the Punjab into the Gangetic plain. Around 600 BCE, a new, interregional culture arose; then, small chieftaincies (janapadas) were consolidated into larger states (mahajanapadas). Second urbanization took place, which came with the rise of new ascetic movements and religious concepts, including the rise of Jainism and Buddhism. The latter was synthesized with the preexisting religious cultures of the subcontinent, giving rise to Hinduism.\n",
      "\n",
      "Chandragupta Maurya overthrew the Nanda Empire and established the first great empire in ancient India, the Maurya Empire. India's Mauryan king Ashoka is widely recognised for the violent kalinga war and his historical acceptance of Buddhism and his attempts to spread nonviolence and peace across his empire. The Maurya Empire would collapse in 185 BCE, on the assassination of the then-emperor Brihadratha by his general Pushyamitra Shunga. Shunga would form the Shunga Empire in the north and north-east of the subcontinent, while the Greco-Bactrian Kingdom would claim the north-west and found the Indo-Greek Kingdom. Various parts of India were ruled by numerous dynasties, including the Gupta Empire, in the 4th to 6th centuries CE. This period, witnessing a Hindu religious and intellectual resurgence is known as the Classical or Golden Age of India. Aspects of Indian civilisation, administration, culture, and religion spread to much of Asia, which led to the establishment of Indianised kingdoms in the region, forming Greater India. The most significant event between the 7th and 11th centuries was the Tripartite struggle centred on Kannauj. Southern India saw the rise of multiple imperial powers from the middle of the fifth century. The Chola dynasty conquered southern India in the 11th century. In the early medieval period, Indian mathematics, including Hindu numerals, influenced the development of mathematics and astronomy in the Arab world, including the creation of the Hindu-Arabic numeral system.\n",
      "Islamic conquests made limited inroads into modern Afghanistan and Sindh as early as the 8th century, followed by the invasions of Mahmud Ghazni.\n",
      "The Delhi Sultanate, established in 1206 by Central Asian Turks, ruled much of northern India in the 14th century. It was governed by various Turkic and Afghan dynasties, including the Indo-Turkic Tughlaqs. The empire declined in the late 14th century following the invasions of Timur and saw the advent of the Malwa, Gujarat, and Bahmani sultanates, the last of which split in 1518 into the five Deccan sultanates. The wealthy Bengal Sultanate also emerged as a major power, lasting over three centuries. During this period, multiple strong Hindu kingdoms, notably the Vijayanagara Empire and Rajput states under the Kingdom of Mewar emerged and played significant roles in shaping the cultural and political landscape of India.\n",
      "The early modern period began in the 16th century, when the Mughal Empire conquered most of the Indian subcontinen\n"
     ]
    }
   ],
   "source": [
    "print(docs[0].page_content)"
   ]
  },
  {
   "cell_type": "code",
   "execution_count": 18,
   "id": "ca9c4223",
   "metadata": {},
   "outputs": [
    {
     "data": {
      "text/plain": [
       "[Document(metadata={'title': 'History of India', 'summary': \"Anatomically modern humans first arrived on the Indian subcontinent between 73,000 and 55,000 years ago. The earliest known human remains in South Asia date to 30,000 years ago. Sedentariness began in South Asia around 7000 BCE; by 4500 BCE, settled life had spread, and gradually evolved into the Indus Valley Civilisation, one of three early cradles of civilisation in the Old World, which flourished between 2500 BCE and 1900 BCE in present-day Pakistan and north-western India. Early in the second millennium BCE, persistent drought caused the population of the Indus Valley to scatter from large urban centres to villages. Indo-Aryan tribes moved into the Punjab from Central Asia in several waves of migration. The Vedic Period of the Vedic people in northern India (1500–500 BCE) was marked by the composition of their extensive collections of hymns (Vedas). The social structure was loosely stratified via the varna system, incorporated into the highly evolved present-day Jāti system. The pastoral and nomadic Indo-Aryans spread from the Punjab into the Gangetic plain. Around 600 BCE, a new, interregional culture arose; then, small chieftaincies (janapadas) were consolidated into larger states (mahajanapadas). Second urbanization took place, which came with the rise of new ascetic movements and religious concepts, including the rise of Jainism and Buddhism. The latter was synthesized with the preexisting religious cultures of the subcontinent, giving rise to Hinduism.\\n\\nChandragupta Maurya overthrew the Nanda Empire and established the first great empire in ancient India, the Maurya Empire. India's Mauryan king Ashoka is widely recognised for the violent kalinga war and his historical acceptance of Buddhism and his attempts to spread nonviolence and peace across his empire. The Maurya Empire would collapse in 185 BCE, on the assassination of the then-emperor Brihadratha by his general Pushyamitra Shunga. Shunga would form the Shunga Empire in the north and north-east of the subcontinent, while the Greco-Bactrian Kingdom would claim the north-west and found the Indo-Greek Kingdom. Various parts of India were ruled by numerous dynasties, including the Gupta Empire, in the 4th to 6th centuries CE. This period, witnessing a Hindu religious and intellectual resurgence is known as the Classical or Golden Age of India. Aspects of Indian civilisation, administration, culture, and religion spread to much of Asia, which led to the establishment of Indianised kingdoms in the region, forming Greater India. The most significant event between the 7th and 11th centuries was the Tripartite struggle centred on Kannauj. Southern India saw the rise of multiple imperial powers from the middle of the fifth century. The Chola dynasty conquered southern India in the 11th century. In the early medieval period, Indian mathematics, including Hindu numerals, influenced the development of mathematics and astronomy in the Arab world, including the creation of the Hindu-Arabic numeral system.\\nIslamic conquests made limited inroads into modern Afghanistan and Sindh as early as the 8th century, followed by the invasions of Mahmud Ghazni.\\nThe Delhi Sultanate, established in 1206 by Central Asian Turks, ruled much of northern India in the 14th century. It was governed by various Turkic and Afghan dynasties, including the Indo-Turkic Tughlaqs. The empire declined in the late 14th century following the invasions of Timur and saw the advent of the Malwa, Gujarat, and Bahmani sultanates, the last of which split in 1518 into the five Deccan sultanates. The wealthy Bengal Sultanate also emerged as a major power, lasting over three centuries. During this period, multiple strong Hindu kingdoms, notably the Vijayanagara Empire and Rajput states under the Kingdom of Mewar emerged and played significant roles in shaping the cultural and political landscape of India.\\nThe early modern period began in the 16th century, when the Mughal Empire conquered most of the Indian subcontinent, signaling the proto-industrialisation, becoming the biggest global economy and manufacturing power. The Mughals suffered a gradual decline in the early 18th century, largely due to the rising power of the Marathas, who took control of extensive regions of the Indian subcontinent, and numerous Afghan invasions. The East India Company, acting as a sovereign force on behalf of the British government, gradually acquired control of huge areas of India between the middle of the 18th and the middle of the 19th centuries. Policies of company rule in India led to the Indian Rebellion of 1857. India was afterwards ruled directly by the British Crown, in the British Raj. After World War I, a nationwide struggle for independence was launched by the Indian National Congress, led by Mahatma Gandhi. Later, the All-India Muslim League would advocate for a separate Muslim-majority nation state. The British Indian Empire was partitioned in August 1947 into the Dominion of India and Dominion of Pakistan, each gaining its independence.\", 'source': 'https://en.wikipedia.org/wiki/History_of_India'}, page_content=\"Anatomically modern humans first arrived on the Indian subcontinent between 73,000 and 55,000 years ago. The earliest known human remains in South Asia date to 30,000 years ago. Sedentariness began in South Asia around 7000 BCE; by 4500 BCE, settled life had spread, and gradually evolved into the Indus Valley Civilisation, one of three early cradles of civilisation in the Old World, which flourished between 2500 BCE and 1900 BCE in present-day Pakistan and north-western India. Early in the second millennium BCE, persistent drought caused the population of the Indus Valley to scatter from large urban centres to villages. Indo-Aryan tribes moved into the Punjab from Central Asia in several waves of migration. The Vedic Period of the Vedic people in northern India (1500–500 BCE) was marked by the composition of their extensive collections of hymns (Vedas). The social structure was loosely stratified via the varna system, incorporated into the highly evolved present-day Jāti system. The pastoral and nomadic Indo-Aryans spread from the Punjab into the Gangetic plain. Around 600 BCE, a new, interregional culture arose; then, small chieftaincies (janapadas) were consolidated into larger states (mahajanapadas). Second urbanization took place, which came with the rise of new ascetic movements and religious concepts, including the rise of Jainism and Buddhism. The latter was synthesized with the preexisting religious cultures of the subcontinent, giving rise to Hinduism.\\n\\nChandragupta Maurya overthrew the Nanda Empire and established the first great empire in ancient India, the Maurya Empire. India's Mauryan king Ashoka is widely recognised for the violent kalinga war and his historical acceptance of Buddhism and his attempts to spread nonviolence and peace across his empire. The Maurya Empire would collapse in 185 BCE, on the assassination of the then-emperor Brihadratha by his general Pushyamitra Shunga. Shunga would form the Shunga Empire in the north and north-east of the subcontinent, while the Greco-Bactrian Kingdom would claim the north-west and found the Indo-Greek Kingdom. Various parts of India were ruled by numerous dynasties, including the Gupta Empire, in the 4th to 6th centuries CE. This period, witnessing a Hindu religious and intellectual resurgence is known as the Classical or Golden Age of India. Aspects of Indian civilisation, administration, culture, and religion spread to much of Asia, which led to the establishment of Indianised kingdoms in the region, forming Greater India. The most significant event between the 7th and 11th centuries was the Tripartite struggle centred on Kannauj. Southern India saw the rise of multiple imperial powers from the middle of the fifth century. The Chola dynasty conquered southern India in the 11th century. In the early medieval period, Indian mathematics, including Hindu numerals, influenced the development of mathematics and astronomy in the Arab world, including the creation of the Hindu-Arabic numeral system.\\nIslamic conquests made limited inroads into modern Afghanistan and Sindh as early as the 8th century, followed by the invasions of Mahmud Ghazni.\\nThe Delhi Sultanate, established in 1206 by Central Asian Turks, ruled much of northern India in the 14th century. It was governed by various Turkic and Afghan dynasties, including the Indo-Turkic Tughlaqs. The empire declined in the late 14th century following the invasions of Timur and saw the advent of the Malwa, Gujarat, and Bahmani sultanates, the last of which split in 1518 into the five Deccan sultanates. The wealthy Bengal Sultanate also emerged as a major power, lasting over three centuries. During this period, multiple strong Hindu kingdoms, notably the Vijayanagara Empire and Rajput states under the Kingdom of Mewar emerged and played significant roles in shaping the cultural and political landscape of India.\\nThe early modern period began in the 16th century, when the Mughal Empire conquered most of the Indian subcontinen\"),\n",
       " Document(metadata={'title': 'Geopolitics', 'summary': 'Geopolitics (from Ancient Greek  γῆ gê \\'earth, land\\' and  πολιτική politikḗ \\'politics\\') is the study of the effects of Earth\\'s geography on politics and international relations. Geopolitics usually refers to countries and relations between them; it may also focus on two other kinds of states: de facto independent states with limited international recognition and relations between sub-national geopolitical entities, such as the federated states that make up a federation, confederation, or a quasi-federal system. According to multiple researchers, the term is currently being used to describe a broad spectrum of concepts, in a general sense used as \"a synonym for international political relations\", but more specifically \"to imply the global structure of such relations\"; this usage builds on an \"early-twentieth-century term for a pseudoscience of political geography\" and other pseudoscientific theories of historical and geographic determinism.\\nAt the level of international relations, geopolitics is a method of studying foreign policy to understand, explain, and predict international political behavior through geographical variables. These include area studies, climate, topography, demography, natural resources, and applied science of the region being evaluated.\\nGeopolitics focuses on political power linked to geographic space, in particular, territorial waters, land territory and  wealth of natural resources, in correlation with diplomatic history, in particular the context of a larger power relative to its neighboring states of smaller or similar power. Some scholars have argued that geopolitics should serve as \"an aid to statecraft.\" Topics of geopolitics include relations between the interests of international political actors focused within an area, a space, or a geographical element, relations which create a geopolitical system. Critical geopolitics deconstructs classical geopolitical theories, by showing their political or ideological functions for great powers. There are some works that discuss the geopolitics of renewable energy. The relationship between geopolitics and geoeconomics is often analyzed by two main schools of thought: the strategic school and the political-economic school. \\nThe Austro-Hungarian historian Emil Reich (1854–1910) is considered to be the first having coined the term in English as early as 1902 and later published in England in 1904 in his book Foundations of Modern Europe.', 'source': 'https://en.wikipedia.org/wiki/Geopolitics'}, page_content='Geopolitics (from Ancient Greek  γῆ gê \\'earth, land\\' and  πολιτική politikḗ \\'politics\\') is the study of the effects of Earth\\'s geography on politics and international relations. Geopolitics usually refers to countries and relations between them; it may also focus on two other kinds of states: de facto independent states with limited international recognition and relations between sub-national geopolitical entities, such as the federated states that make up a federation, confederation, or a quasi-federal system. According to multiple researchers, the term is currently being used to describe a broad spectrum of concepts, in a general sense used as \"a synonym for international political relations\", but more specifically \"to imply the global structure of such relations\"; this usage builds on an \"early-twentieth-century term for a pseudoscience of political geography\" and other pseudoscientific theories of historical and geographic determinism.\\nAt the level of international relations, geopolitics is a method of studying foreign policy to understand, explain, and predict international political behavior through geographical variables. These include area studies, climate, topography, demography, natural resources, and applied science of the region being evaluated.\\nGeopolitics focuses on political power linked to geographic space, in particular, territorial waters, land territory and  wealth of natural resources, in correlation with diplomatic history, in particular the context of a larger power relative to its neighboring states of smaller or similar power. Some scholars have argued that geopolitics should serve as \"an aid to statecraft.\" Topics of geopolitics include relations between the interests of international political actors focused within an area, a space, or a geographical element, relations which create a geopolitical system. Critical geopolitics deconstructs classical geopolitical theories, by showing their political or ideological functions for great powers. There are some works that discuss the geopolitics of renewable energy. The relationship between geopolitics and geoeconomics is often analyzed by two main schools of thought: the strategic school and the political-economic school. \\nThe Austro-Hungarian historian Emil Reich (1854–1910) is considered to be the first having coined the term in English as early as 1902 and later published in England in 1904 in his book Foundations of Modern Europe.\\n\\n\\n== United States ==\\n\\n\\n=== Alfred Thayer Mahan and sea power ===\\nAlfred Thayer Mahan (1840–1914) was a frequent commentator on world naval strategic and diplomatic affairs. Mahan believed that national greatness was inextricably associated with the sea—and particularly with its commercial use in peace and its control in war. Mahan\\'s theoretical framework came from Antoine-Henri Jomini, and emphasized that strategic locations (such as choke points, canals, and coaling stations), as well as quantifiable levels of fighting power in a fleet, were conducive to control over the sea. He proposed six conditions required for a nation to have sea power:\\n\\nAdvantageous geographical position;\\nServiceable coastlines, abundant natural resources, and favorable climate;\\nExtent of territory\\nPopulation large enough to defend its territory;\\nSociety with an aptitude for the sea and commercial enterprise; and\\nGovernment with the influence and inclination to dominate the sea.\\nMahan distinguished a key region of the world in the Eurasian context, namely, the Central Zone of Asia lying between 30° and 40° north and stretching from Asia Minor to Japan. In this zone independent countries still survived – Turkey, Persia, Afghanistan, China, and Japan. Mahan regarded those countries, located between Britain and Russia, as if between \"Scylla and Charybdis\". Of the two monsters – Britain and Russia – it was the latter that Mahan considered more threatening to the fate of Central Asia. Mahan was impressed by Russia\\'s transcontinental size and strategically f')]"
      ]
     },
     "execution_count": 18,
     "metadata": {},
     "output_type": "execute_result"
    }
   ],
   "source": [
    "docs"
   ]
  },
  {
   "cell_type": "markdown",
   "id": "3e9648e6",
   "metadata": {},
   "source": [
    "##### Print retrieved content"
   ]
  },
  {
   "cell_type": "code",
   "execution_count": 19,
   "id": "bdf60710",
   "metadata": {},
   "outputs": [
    {
     "name": "stdout",
     "output_type": "stream",
     "text": [
      "\n",
      "--- Result 1 ---\n",
      "Content:\n",
      "Anatomically modern humans first arrived on the Indian subcontinent between 73,000 and 55,000 years ago. The earliest known human remains in South Asia date to 30,000 years ago. Sedentariness began in South Asia around 7000 BCE; by 4500 BCE, settled life had spread, and gradually evolved into the Indus Valley Civilisation, one of three early cradles of civilisation in the Old World, which flourished between 2500 BCE and 1900 BCE in present-day Pakistan and north-western India. Early in the second millennium BCE, persistent drought caused the population of the Indus Valley to scatter from large urban centres to villages. Indo-Aryan tribes moved into the Punjab from Central Asia in several waves of migration. The Vedic Period of the Vedic people in northern India (1500–500 BCE) was marked by the composition of their extensive collections of hymns (Vedas). The social structure was loosely stratified via the varna system, incorporated into the highly evolved present-day Jāti system. The pastoral and nomadic Indo-Aryans spread from the Punjab into the Gangetic plain. Around 600 BCE, a new, interregional culture arose; then, small chieftaincies (janapadas) were consolidated into larger states (mahajanapadas). Second urbanization took place, which came with the rise of new ascetic movements and religious concepts, including the rise of Jainism and Buddhism. The latter was synthesized with the preexisting religious cultures of the subcontinent, giving rise to Hinduism.\n",
      "\n",
      "Chandragupta Maurya overthrew the Nanda Empire and established the first great empire in ancient India, the Maurya Empire. India's Mauryan king Ashoka is widely recognised for the violent kalinga war and his historical acceptance of Buddhism and his attempts to spread nonviolence and peace across his empire. The Maurya Empire would collapse in 185 BCE, on the assassination of the then-emperor Brihadratha by his general Pushyamitra Shunga. Shunga would form the Shunga Empire in the north and north-east of the subcontinent, while the Greco-Bactrian Kingdom would claim the north-west and found the Indo-Greek Kingdom. Various parts of India were ruled by numerous dynasties, including the Gupta Empire, in the 4th to 6th centuries CE. This period, witnessing a Hindu religious and intellectual resurgence is known as the Classical or Golden Age of India. Aspects of Indian civilisation, administration, culture, and religion spread to much of Asia, which led to the establishment of Indianised kingdoms in the region, forming Greater India. The most significant event between the 7th and 11th centuries was the Tripartite struggle centred on Kannauj. Southern India saw the rise of multiple imperial powers from the middle of the fifth century. The Chola dynasty conquered southern India in the 11th century. In the early medieval period, Indian mathematics, including Hindu numerals, influenced the development of mathematics and astronomy in the Arab world, including the creation of the Hindu-Arabic numeral system.\n",
      "Islamic conquests made limited inroads into modern Afghanistan and Sindh as early as the 8th century, followed by the invasions of Mahmud Ghazni.\n",
      "The Delhi Sultanate, established in 1206 by Central Asian Turks, ruled much of northern India in the 14th century. It was governed by various Turkic and Afghan dynasties, including the Indo-Turkic Tughlaqs. The empire declined in the late 14th century following the invasions of Timur and saw the advent of the Malwa, Gujarat, and Bahmani sultanates, the last of which split in 1518 into the five Deccan sultanates. The wealthy Bengal Sultanate also emerged as a major power, lasting over three centuries. During this period, multiple strong Hindu kingdoms, notably the Vijayanagara Empire and Rajput states under the Kingdom of Mewar emerged and played significant roles in shaping the cultural and political landscape of India.\n",
      "The early modern period began in the 16th century, when the Mughal Empire conquered most of the Indian subcontinen...\n",
      "\n",
      "--- Result 2 ---\n",
      "Content:\n",
      "Geopolitics (from Ancient Greek  γῆ gê 'earth, land' and  πολιτική politikḗ 'politics') is the study of the effects of Earth's geography on politics and international relations. Geopolitics usually refers to countries and relations between them; it may also focus on two other kinds of states: de facto independent states with limited international recognition and relations between sub-national geopolitical entities, such as the federated states that make up a federation, confederation, or a quasi-federal system. According to multiple researchers, the term is currently being used to describe a broad spectrum of concepts, in a general sense used as \"a synonym for international political relations\", but more specifically \"to imply the global structure of such relations\"; this usage builds on an \"early-twentieth-century term for a pseudoscience of political geography\" and other pseudoscientific theories of historical and geographic determinism.\n",
      "At the level of international relations, geopolitics is a method of studying foreign policy to understand, explain, and predict international political behavior through geographical variables. These include area studies, climate, topography, demography, natural resources, and applied science of the region being evaluated.\n",
      "Geopolitics focuses on political power linked to geographic space, in particular, territorial waters, land territory and  wealth of natural resources, in correlation with diplomatic history, in particular the context of a larger power relative to its neighboring states of smaller or similar power. Some scholars have argued that geopolitics should serve as \"an aid to statecraft.\" Topics of geopolitics include relations between the interests of international political actors focused within an area, a space, or a geographical element, relations which create a geopolitical system. Critical geopolitics deconstructs classical geopolitical theories, by showing their political or ideological functions for great powers. There are some works that discuss the geopolitics of renewable energy. The relationship between geopolitics and geoeconomics is often analyzed by two main schools of thought: the strategic school and the political-economic school. \n",
      "The Austro-Hungarian historian Emil Reich (1854–1910) is considered to be the first having coined the term in English as early as 1902 and later published in England in 1904 in his book Foundations of Modern Europe.\n",
      "\n",
      "\n",
      "== United States ==\n",
      "\n",
      "\n",
      "=== Alfred Thayer Mahan and sea power ===\n",
      "Alfred Thayer Mahan (1840–1914) was a frequent commentator on world naval strategic and diplomatic affairs. Mahan believed that national greatness was inextricably associated with the sea—and particularly with its commercial use in peace and its control in war. Mahan's theoretical framework came from Antoine-Henri Jomini, and emphasized that strategic locations (such as choke points, canals, and coaling stations), as well as quantifiable levels of fighting power in a fleet, were conducive to control over the sea. He proposed six conditions required for a nation to have sea power:\n",
      "\n",
      "Advantageous geographical position;\n",
      "Serviceable coastlines, abundant natural resources, and favorable climate;\n",
      "Extent of territory\n",
      "Population large enough to defend its territory;\n",
      "Society with an aptitude for the sea and commercial enterprise; and\n",
      "Government with the influence and inclination to dominate the sea.\n",
      "Mahan distinguished a key region of the world in the Eurasian context, namely, the Central Zone of Asia lying between 30° and 40° north and stretching from Asia Minor to Japan. In this zone independent countries still survived – Turkey, Persia, Afghanistan, China, and Japan. Mahan regarded those countries, located between Britain and Russia, as if between \"Scylla and Charybdis\". Of the two monsters – Britain and Russia – it was the latter that Mahan considered more threatening to the fate of Central Asia. Mahan was impressed by Russia's transcontinental size and strategically f...\n"
     ]
    }
   ],
   "source": [
    "for i, doc in enumerate(docs):\n",
    "    print(f\"\\n--- Result {i+1} ---\")\n",
    "    # truncate for display\n",
    "    print(f\"Content:\\n{doc.page_content}...\")  "
   ]
  }
 ],
 "metadata": {
  "kernelspec": {
   "display_name": "langchain-retrievers",
   "language": "python",
   "name": "python3"
  },
  "language_info": {
   "codemirror_mode": {
    "name": "ipython",
    "version": 3
   },
   "file_extension": ".py",
   "mimetype": "text/x-python",
   "name": "python",
   "nbconvert_exporter": "python",
   "pygments_lexer": "ipython3",
   "version": "3.13.1"
  }
 },
 "nbformat": 4,
 "nbformat_minor": 5
}
